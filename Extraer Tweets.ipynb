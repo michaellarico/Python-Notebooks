{
 "cells": [
  {
   "cell_type": "markdown",
   "metadata": {},
   "source": [
    "<font color=gray>Junio 2017 | Análisis de Redes Sociales con Python</font>\n",
    "\n",
    "# <font color=#003d5c>Tweepy</font>"
   ]
  },
  {
   "cell_type": "markdown",
   "metadata": {},
   "source": [
    "Para autorizar que nuestra aplicación acceda a twitter en nuestro nombre, necesitamos usar la interfaz de **OAuth**:"
   ]
  },
  {
   "cell_type": "code",
   "execution_count": null,
   "metadata": {
    "collapsed": true
   },
   "outputs": [],
   "source": [
    "import tweepy\n",
    "import json\n",
    "from tweepy import OAuthHandler\n",
    "\n",
    "consumer_key = 'nkZF8L7QQsm3IqkjUgNRbzXSS'\n",
    "consumer_secret = 'iDbgDcn8OvH3kZ1j7OuPBfFiCxv0v2CHY7GymGiCXCST0Ps7TB'\n",
    "access_token = '2176488962-oyF8MhDTY9sw0KFVazXFnly4i6hQkupOtfX6Fk5'\n",
    "access_secret = 'hcPfi0nAYGlVRWwAcwkpgAfKkRiqWjEGcAip4JRAs2y5q'\n",
    " \n",
    "auth = OAuthHandler(consumer_key, consumer_secret)\n",
    "auth.set_access_token(access_token, access_secret)\n",
    " \n",
    "api = tweepy.API(auth)"
   ]
  },
  {
   "cell_type": "markdown",
   "metadata": {},
   "source": [
    "La variable api es ahora nuestro punto de entrada para la mayorìa de las operaciones que podemos realizar con Twitter. Por ejemplo, podeemos leer nuestra propia línea de tiempo (es decir, nuestra **página principal de Twitter**) con:"
   ]
  },
  {
   "cell_type": "code",
   "execution_count": null,
   "metadata": {},
   "outputs": [],
   "source": [
    "for status in tweepy.Cursor(api.home_timeline).items(2):\n",
    "    print(status.text)"
   ]
  },
  {
   "cell_type": "markdown",
   "metadata": {},
   "source": [
    "<p align=\"justify\"> Además **Tweepy** proporciona una conveniente interfaz llamada **Cursor** para iterar a través de diferentes tipos de objetos. En el ejemplo anterior usamos 2 para limitar el número de tweets que estamos leyendo, pero podemos acceder a más. La variable **status** es una instancia de la clase Status(), una envoltura agradable para acceder a los datos.</p>\n",
    "\n",
    "La respuesta JSON de la API de Twitter está disponible en el atributo **_json**, que no es una cadena, sino un diccionario. Así que el código anterior se puede volver a escribir para obtener el JSON:"
   ]
  },
  {
   "cell_type": "code",
   "execution_count": null,
   "metadata": {
    "scrolled": true
   },
   "outputs": [],
   "source": [
    "for status in tweepy.Cursor(api.home_timeline).items(1):\n",
    "    print status._json"
   ]
  },
  {
   "cell_type": "markdown",
   "metadata": {},
   "source": [
    "¿Qué pasa si queremos tener una lista de todos nuestros seguidores? Así lo hacemos:"
   ]
  },
  {
   "cell_type": "code",
   "execution_count": null,
   "metadata": {},
   "outputs": [],
   "source": [
    "for friend in tweepy.Cursor(api.friends).items():\n",
    "    print friend._json"
   ]
  },
  {
   "cell_type": "markdown",
   "metadata": {},
   "source": [
    "¿Y qué tal una lista de todos nuestros tweets? Así de simple:"
   ]
  },
  {
   "cell_type": "code",
   "execution_count": null,
   "metadata": {},
   "outputs": [],
   "source": [
    "for tweet in tweepy.Cursor(api.user_timeline).items():\n",
    "    print tweet._json"
   ]
  },
  {
   "cell_type": "markdown",
   "metadata": {},
   "source": [
    "<p align=\"justify\"> De esta manera podemos recopilar fácilmente los tweets y almacenarlos en el formato original JSON, de tal manera que sea bastante fácil de convertir en diferentes modelos de datos dependiendo de nuestro almacenamiento (muchas tecnologías NoSQL proporcionan alguna característica de importación masiva).</p>"
   ]
  },
  {
   "cell_type": "markdown",
   "metadata": {},
   "source": [
    "# <font color=#003d5c>Streaming</font>"
   ]
  },
  {
   "cell_type": "markdown",
   "metadata": {},
   "source": [
    "<p align=\"justify\"> En caso de que quisiéramos mantener la conexión abierta, y reunir todos los próximos tweets sobre un evento en particular, la API de streaming es lo que necesitamos. Necesitamos instanciar el **StreamListener()** para personalizar la forma en que procesamos los datos entrantes. Aquí se muestra un ejemplo de trabajo que reúne todos los nuevos tweets con el hashtag **#TransitoLima**:</p>"
   ]
  },
  {
   "cell_type": "code",
   "execution_count": null,
   "metadata": {},
   "outputs": [],
   "source": [
    "from tweepy import Stream\n",
    "from tweepy.streaming import StreamListener\n",
    " \n",
    "class MyListener(StreamListener):\n",
    " \n",
    "    def on_data(self, data):\n",
    "        try:\n",
    "            with open('TransitoLima.json', 'a') as f:\n",
    "                f.write(data)\n",
    "                return True\n",
    "        except BaseException as e:\n",
    "            print(\"Error on_data: %s\" % str(e))\n",
    "        return True\n",
    " \n",
    "    def on_error(self, status):\n",
    "        print(status)\n",
    "        return True\n",
    "\n",
    "twitter_stream = Stream(auth, MyListener())\n",
    "twitter_stream.filter(track=['#TransitoLima'])"
   ]
  },
  {
   "cell_type": "markdown",
   "metadata": {},
   "source": [
    "Dependiendo del término de búsqueda, podemos reunir toneladas de tweets en pocos minutos. Esto es especialmente cierto para eventos en vivo con una cobertura mundial, así que mantén un ojo en el archivo JSON para entender lo rápido que crece y considerar cuántos tweets puede necesitar para sus pruebas. \n",
    "\n",
    "El script anterior guardará cada tweet en una nueva línea, por lo que puede usar el comando **wc -l TransitoLima.json** de una shell de Unix para saber cuántos tweets ha reunido y **cat TransitoLima.json** para verlos."
   ]
  },
  {
   "cell_type": "markdown",
   "metadata": {},
   "source": [
    "<font color=gray>Referencia: </font> <a href=\"https://marcobonzanini.com/2015/03/02/mining-twitter-data-with-python-part-1/#Register_Your_App\">Mining Twitter Data with Python (Part 1: Collecting data)</a>"
   ]
  }
 ],
 "metadata": {
  "kernelspec": {
   "display_name": "Python 2",
   "language": "python",
   "name": "python2"
  },
  "language_info": {
   "codemirror_mode": {
    "name": "ipython",
    "version": 2
   },
   "file_extension": ".py",
   "mimetype": "text/x-python",
   "name": "python",
   "nbconvert_exporter": "python",
   "pygments_lexer": "ipython2",
   "version": "2.7.11"
  }
 },
 "nbformat": 4,
 "nbformat_minor": 2
}
